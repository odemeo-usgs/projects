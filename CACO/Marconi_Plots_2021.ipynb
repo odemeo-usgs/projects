{
 "cells": [
  {
   "cell_type": "code",
   "execution_count": null,
   "id": "9d9be2d9",
   "metadata": {},
   "outputs": [],
   "source": [
    "import numpy as np\n",
    "import pandas as pd\n",
    "import xarray as xr\n",
    "import matplotlib.pyplot as plt"
   ]
  },
  {
   "cell_type": "code",
   "execution_count": null,
   "id": "516a4f71",
   "metadata": {},
   "outputs": [],
   "source": [
    "# netCDF files\n",
    "fn1='C:\\\\Users\\\\odemeo\\\\Documents\\\\Field_Data_Processing\\\\CACO_MET\\\\Marconi\\\\1128\\\\1128wxt-a.nc'\n",
    "fn2='C:\\\\Users\\\\odemeo\\\\Documents\\\\Field_Data_Processing\\\\CACO_MET\\\\Marconi\\\\1129A\\\\1129Awxt-a.nc'"
   ]
  },
  {
   "cell_type": "code",
   "execution_count": null,
   "id": "214e2e83",
   "metadata": {},
   "outputs": [],
   "source": [
    "# Read in mooring 1128\n",
    "ds_1128 = xr.open_dataset(fn1)\n",
    "ds_1128 # Marconi data when met was on solar panel\n",
    "df_1128=ds_1128.to_dataframe() # Convert xarray dataset to pandas dataframe\n",
    "\n",
    "# Make statistics table\n",
    "df_1128.describe()\n",
    "df_1128"
   ]
  },
  {
   "cell_type": "code",
   "execution_count": null,
   "id": "a1ab314d",
   "metadata": {},
   "outputs": [],
   "source": [
    "# Put 1128 variables into arrays\n",
    "time1128=ds_1128['time'].values\n",
    "wdir_min1128=ds_1128['WD_min'].values\n",
    "wdir_mean1128=ds_1128['WD_410'].values\n",
    "wdir_max1128=ds_1128['WD_gust'].values\n",
    "wsp_min1128=ds_1128['WS_min'].values\n",
    "wsp_mean1128=ds_1128['WS_401'].values\n",
    "wsp_max1128=ds_1128['WG_402'].values\n",
    "temp1128=ds_1128['T_21'].values\n",
    "relh1128=ds_1128['RH_910'].values"
   ]
  },
  {
   "cell_type": "code",
   "execution_count": null,
   "id": "4d852681",
   "metadata": {},
   "outputs": [],
   "source": [
    "# 1128 Time-series plots\n",
    "fig, ax=plt.subplots(nrows=4, ncols=1, sharey=False, sharex=True, squeeze=True, figsize = (12,12))\n",
    "\n",
    "# Wind speed\n",
    "ax[0].plot(time1128,wsp_max1128, '.',zorder=1,label='Max')\n",
    "ax[0].plot(time1128,wsp_mean1128,'-',linewidth=2,zorder=2,label='Mean')\n",
    "ax[0].plot(time1128,wsp_min1128, '.',zorder=0,label='Min')\n",
    "ax[0].set_ylabel('Wind speed (m/s)',fontsize=14)\n",
    "ax[0].legend()\n",
    "ax[0].title.set_text('1128 - Met mounted on solar panel mast')\n",
    "fig.autofmt_xdate() # Rotate x-axis labels so you can read all of them\n",
    "#ax[0].text(.02,.85,'Wind speed',fontsize=16,transform=ax[0].transAxes)\n",
    "\n",
    "# Wind direction\n",
    "ax[1].plot(time1128,wdir_mean1128,'m.',linewidth=2)\n",
    "ax[1].set_yticks([0.,90.,180.,270,360])\n",
    "ax[1].set_ylabel('Wind direction ($^{\\circ}$T)',fontsize=14)\n",
    "ax[1].grid(axis = 'y')\n",
    "#ax[1].text(.02,.85,'Wind direction (from)',fontsize=16,transform=ax[1].transAxes)\n",
    "\n",
    "# Temp\n",
    "ax[2].plot(time1128,temp1128,'r-',linewidth=2)\n",
    "ax[2].set_ylabel('Air temp. ($^{\\circ}$C)',fontsize=14)\n",
    "#ax[2].text(.02,.1,'Air temperature',fontsize=16,transform=ax[2].transAxes)\n",
    "\n",
    "# Relative humidity\n",
    "ax[3].plot(time1128,relh1128,'c-',linewidth=2)\n",
    "ax[3].set_ylabel('Rel. humidity (%)',fontsize=14)\n",
    "#ax[3].text(.02,.1,'Relative humidity',fontsize=16,transform=ax[4].transAxes)\n"
   ]
  },
  {
   "cell_type": "code",
   "execution_count": null,
   "id": "688d4e26",
   "metadata": {},
   "outputs": [],
   "source": [
    "# Read in mooring 1129A\n",
    "ds_1129A = xr.open_dataset(fn2)\n",
    "ds_1129A # Marconi data after met was transferred to its own pole\n",
    "df_1129A=ds_1129A.to_dataframe() # Convert xarray dataset to pandas dataframe\n",
    "\n",
    "# Make statistics table\n",
    "df_1129A.describe()"
   ]
  },
  {
   "cell_type": "code",
   "execution_count": null,
   "id": "01a5bc61",
   "metadata": {},
   "outputs": [],
   "source": [
    "# Put 1129A variables into arrays\n",
    "time1129A=ds_1129A['time'].values\n",
    "wdir_min1129A=ds_1129A['WD_min'].values\n",
    "wdir_mean1129A=ds_1129A['WD_410'].values\n",
    "wdir_max1129A=ds_1129A['WD_gust'].values\n",
    "wsp_min1129A=ds_1129A['WS_min'].values\n",
    "wsp_mean1129A=ds_1129A['WS_401'].values\n",
    "wsp_max1129A=ds_1129A['WG_402'].values\n",
    "temp1129A=ds_1129A['T_21'].values\n",
    "relh1129A=ds_1129A['RH_910'].values"
   ]
  },
  {
   "cell_type": "code",
   "execution_count": null,
   "id": "2b0d8aa0",
   "metadata": {},
   "outputs": [],
   "source": [
    "# 1129A Time-series plots\n",
    "fig, ax=plt.subplots(nrows=4, ncols=1, sharey=False, sharex=True, squeeze=True, figsize = (12,12))\n",
    "\n",
    "# Wind speed\n",
    "ax[0].plot(time1129A,wsp_max1129A, '.',zorder=1,label='Max')\n",
    "ax[0].plot(time1129A,wsp_mean1129A,'-',linewidth=2,zorder=2,label='Mean')\n",
    "ax[0].plot(time1129A,wsp_min1129A, '.',zorder=0,label='Min')\n",
    "ax[0].set_ylabel('Wind speed (m/s)',fontsize=14)\n",
    "ax[0].legend()\n",
    "ax[0].title.set_text('1129A')\n",
    "fig.autofmt_xdate() # Rotate x-axis labels so you can read all of them\n",
    "#ax[0].text(.02,.85,'Wind speed',fontsize=16,transform=ax[0].transAxes)\n",
    "\n",
    "# Wind direction\n",
    "ax[1].plot(time1129A,wdir_mean1129A,'m.',linewidth=2)\n",
    "ax[1].set_yticks([0.,90.,180.,270,360])\n",
    "ax[1].set_ylabel('Wind direction ($^{\\circ}$T)',fontsize=14)\n",
    "ax[1].grid(axis = 'y')\n",
    "#ax[1].text(.02,.85,'Wind direction (from)',fontsize=16,transform=ax[1].transAxes)\n",
    "\n",
    "# Temp\n",
    "ax[2].plot(time1129A,temp1129A,'r-',linewidth=2)\n",
    "ax[2].set_ylabel('Air temp. ($^{\\circ}$C)',fontsize=14)\n",
    "#ax[2].text(.02,.1,'Air temperature',fontsize=16,transform=ax[2].transAxes)\n",
    "\n",
    "# Relative humidity\n",
    "ax[3].plot(time1129A,relh1129A,'c-',linewidth=2)\n",
    "ax[3].set_ylabel('Rel. humidity (%)',fontsize=14)\n",
    "#ax[3].text(.02,.1,'Relative humidity',fontsize=16,transform=ax[4].transAxes)\n"
   ]
  },
  {
   "cell_type": "code",
   "execution_count": null,
   "id": "f50807b7",
   "metadata": {},
   "outputs": [],
   "source": []
  }
 ],
 "metadata": {
  "kernelspec": {
   "display_name": "Python 3",
   "language": "python",
   "name": "python3"
  },
  "language_info": {
   "codemirror_mode": {
    "name": "ipython",
    "version": 3
   },
   "file_extension": ".py",
   "mimetype": "text/x-python",
   "name": "python",
   "nbconvert_exporter": "python",
   "pygments_lexer": "ipython3",
   "version": "3.8.8"
  }
 },
 "nbformat": 4,
 "nbformat_minor": 5
}
